{
  "nbformat": 4,
  "nbformat_minor": 0,
  "metadata": {
    "colab": {
      "provenance": [],
      "authorship_tag": "ABX9TyO4zylsGt7iwuK2g0yZ3VaI",
      "include_colab_link": true
    },
    "kernelspec": {
      "name": "python3",
      "display_name": "Python 3"
    },
    "language_info": {
      "name": "python"
    }
  },
  "cells": [
    {
      "cell_type": "markdown",
      "metadata": {
        "id": "view-in-github",
        "colab_type": "text"
      },
      "source": [
        "<a href=\"https://colab.research.google.com/github/Dev-jalexx/Pytorch/blob/main/CNN.ipynb\" target=\"_parent\"><img src=\"https://colab.research.google.com/assets/colab-badge.svg\" alt=\"Open In Colab\"/></a>"
      ]
    },
    {
      "cell_type": "code",
      "execution_count": null,
      "metadata": {
        "id": "2Lf8KB9KXDSr"
      },
      "outputs": [],
      "source": []
    },
    {
      "cell_type": "code",
      "source": [
        "import torch\n",
        "import torch.nn as nn\n",
        "import torch.nn.functional as F\n",
        "from torch.utils.data import DataLoader\n",
        "from torchvision import datasets, transforms\n",
        "from torchvision.utils import make_grid\n",
        "\n",
        "import numpy as np\n",
        "import pandas as pd\n",
        "from sklearn.metrics import confusion_matrix\n",
        "import matplotlib.pyplot as plt\n",
        "%matplotlib inline"
      ],
      "metadata": {
        "id": "UU4vfJZSXIwy"
      },
      "execution_count": 2,
      "outputs": []
    },
    {
      "cell_type": "code",
      "source": [
        "# Convert the MNIST Image files into 4-dimensions Tensors(Number of images, Height, Width, Color Channel)\n",
        "transform = transforms.ToTensor()"
      ],
      "metadata": {
        "id": "15ZuS3jGYNJD"
      },
      "execution_count": 3,
      "outputs": []
    },
    {
      "cell_type": "code",
      "source": [
        "# Train data\n",
        "train_data = datasets.MNIST(root='/cnn_data', download = True, train= True, transform = transform)"
      ],
      "metadata": {
        "colab": {
          "base_uri": "https://localhost:8080/"
        },
        "id": "9iLvcuo0Z1Jg",
        "outputId": "1ec7016c-ee07-436b-d2fd-7ea869b1df64"
      },
      "execution_count": 4,
      "outputs": [
        {
          "output_type": "stream",
          "name": "stderr",
          "text": [
            "100%|██████████| 9.91M/9.91M [00:00<00:00, 18.1MB/s]\n",
            "100%|██████████| 28.9k/28.9k [00:00<00:00, 486kB/s]\n",
            "100%|██████████| 1.65M/1.65M [00:00<00:00, 4.46MB/s]\n",
            "100%|██████████| 4.54k/4.54k [00:00<00:00, 2.56MB/s]\n"
          ]
        }
      ]
    },
    {
      "cell_type": "code",
      "source": [
        "# Test data\n",
        "test_data = datasets.MNIST(root='/cnn_data', download = True, train= False, transform = transform)"
      ],
      "metadata": {
        "id": "3Af3luhobHCr"
      },
      "execution_count": 5,
      "outputs": []
    },
    {
      "cell_type": "code",
      "source": [
        "train_data"
      ],
      "metadata": {
        "colab": {
          "base_uri": "https://localhost:8080/"
        },
        "id": "YLv2b_trbnT9",
        "outputId": "8c055e2c-7d86-4720-bbd7-e884bec52d3a"
      },
      "execution_count": 6,
      "outputs": [
        {
          "output_type": "execute_result",
          "data": {
            "text/plain": [
              "Dataset MNIST\n",
              "    Number of datapoints: 60000\n",
              "    Root location: /cnn_data\n",
              "    Split: Train\n",
              "    StandardTransform\n",
              "Transform: ToTensor()"
            ]
          },
          "metadata": {},
          "execution_count": 6
        }
      ]
    },
    {
      "cell_type": "code",
      "source": [
        "test_data"
      ],
      "metadata": {
        "colab": {
          "base_uri": "https://localhost:8080/"
        },
        "id": "cfHUAcopbshg",
        "outputId": "ca4e675a-6e6a-4a48-c7a0-325fd9de440d"
      },
      "execution_count": 7,
      "outputs": [
        {
          "output_type": "execute_result",
          "data": {
            "text/plain": [
              "Dataset MNIST\n",
              "    Number of datapoints: 10000\n",
              "    Root location: /cnn_data\n",
              "    Split: Test\n",
              "    StandardTransform\n",
              "Transform: ToTensor()"
            ]
          },
          "metadata": {},
          "execution_count": 7
        }
      ]
    },
    {
      "cell_type": "code",
      "source": [
        "train_loader = DataLoader(train_data, batch_size=10, shuffle=True)\n",
        "test_loader = DataLoader(test_data, batch_size=10, shuffle=False)"
      ],
      "metadata": {
        "id": "cLxBeugocmGd"
      },
      "execution_count": 19,
      "outputs": []
    },
    {
      "cell_type": "code",
      "source": [
        "# define our CNN model\n",
        "conv1 = nn.Conv2d(1, 6, 3, 1)\n",
        "conv2 = nn.Conv2d(6, 16, 3, 1)"
      ],
      "metadata": {
        "id": "F7v9W1YqhLpL"
      },
      "execution_count": 44,
      "outputs": []
    },
    {
      "cell_type": "code",
      "source": [
        "#Grab 1 MNIST image\n",
        "for i, (X_train, y_train) in enumerate(train_data):\n",
        "    break"
      ],
      "metadata": {
        "id": "6ShjwfqriFGt"
      },
      "execution_count": 21,
      "outputs": []
    },
    {
      "cell_type": "code",
      "source": [
        "X_train.shape"
      ],
      "metadata": {
        "colab": {
          "base_uri": "https://localhost:8080/"
        },
        "id": "L8dkmLOxidl1",
        "outputId": "141e7949-dc1a-49c6-ed20-a6177c634dc2"
      },
      "execution_count": 23,
      "outputs": [
        {
          "output_type": "execute_result",
          "data": {
            "text/plain": [
              "torch.Size([1, 28, 28])"
            ]
          },
          "metadata": {},
          "execution_count": 23
        }
      ]
    },
    {
      "cell_type": "code",
      "source": [
        "# Transform into 4-dimension\n",
        "x = X_train.view(1, 1, 28, 28)"
      ],
      "metadata": {
        "id": "0JEGi5BMimkn"
      },
      "execution_count": 45,
      "outputs": []
    },
    {
      "cell_type": "code",
      "source": [
        "# first convolutional layer\n",
        "x = F.relu(conv1(x))"
      ],
      "metadata": {
        "id": "ZalorahOi_d4"
      },
      "execution_count": 46,
      "outputs": []
    },
    {
      "cell_type": "code",
      "source": [
        "x.shape # Padding reduces the dimensions"
      ],
      "metadata": {
        "colab": {
          "base_uri": "https://localhost:8080/"
        },
        "id": "s_TN4PZcjt7I",
        "outputId": "4d3e83d6-280c-46dd-9c42-dbe4fa55f039"
      },
      "execution_count": 47,
      "outputs": [
        {
          "output_type": "execute_result",
          "data": {
            "text/plain": [
              "torch.Size([1, 6, 26, 26])"
            ]
          },
          "metadata": {},
          "execution_count": 47
        }
      ]
    },
    {
      "cell_type": "code",
      "source": [
        "# first pooling\n",
        "x = F.max_pool2d(x, 2, 2) # kernel size of 2 and stride of 2"
      ],
      "metadata": {
        "id": "8bfo6AQekXmw"
      },
      "execution_count": 48,
      "outputs": []
    },
    {
      "cell_type": "code",
      "source": [
        "x.shape # 26 / 2 = 13"
      ],
      "metadata": {
        "colab": {
          "base_uri": "https://localhost:8080/"
        },
        "id": "0JIT5aZ0libB",
        "outputId": "f4fe3b03-3d83-4665-8f7a-dcd0e7c753ba"
      },
      "execution_count": 49,
      "outputs": [
        {
          "output_type": "execute_result",
          "data": {
            "text/plain": [
              "torch.Size([1, 6, 13, 13])"
            ]
          },
          "metadata": {},
          "execution_count": 49
        }
      ]
    },
    {
      "cell_type": "code",
      "source": [
        "# Second convolutional layer\n",
        "x = F.relu(conv2(x))"
      ],
      "metadata": {
        "id": "hP4Asgf3lkFx"
      },
      "execution_count": 40,
      "outputs": []
    },
    {
      "cell_type": "code",
      "source": [
        "x.shape"
      ],
      "metadata": {
        "colab": {
          "base_uri": "https://localhost:8080/"
        },
        "id": "HquWGiCdmD-G",
        "outputId": "1f7efb83-ba2f-4a20-9235-5175b4c691e7"
      },
      "execution_count": 41,
      "outputs": [
        {
          "output_type": "execute_result",
          "data": {
            "text/plain": [
              "torch.Size([1, 16, 11, 11])"
            ]
          },
          "metadata": {},
          "execution_count": 41
        }
      ]
    },
    {
      "cell_type": "code",
      "source": [
        "# Second pooling\n",
        "x = F.max_pool2d(x, 2, 2)"
      ],
      "metadata": {
        "id": "qzhtOjQDmFZm"
      },
      "execution_count": 42,
      "outputs": []
    },
    {
      "cell_type": "code",
      "source": [
        "x.shape"
      ],
      "metadata": {
        "colab": {
          "base_uri": "https://localhost:8080/"
        },
        "id": "AW04H8mcmcuG",
        "outputId": "81924cf0-f96f-419b-eaaf-83b1330f4459"
      },
      "execution_count": 43,
      "outputs": [
        {
          "output_type": "execute_result",
          "data": {
            "text/plain": [
              "torch.Size([1, 16, 5, 5])"
            ]
          },
          "metadata": {},
          "execution_count": 43
        }
      ]
    },
    {
      "cell_type": "code",
      "source": [
        "# Model\n",
        "class ConvolutionalNetwork(nn.Module):\n",
        "  def __init__(self):\n",
        "    super().__init__()\n",
        "    self.conv1 = nn.Conv2d(1,6,3,1)\n",
        "    self.conv2 = nn.Conv2d(6,16,3,1)\n",
        "\n",
        "    # Fully connected Layers\n",
        "    self.fc1 = nn.Linear(5*5*16, 120)\n",
        "    self.fc2 = nn.Linear(120, 84)\n",
        "    self.fc3 = nn.Linear(84, 10)\n",
        "\n",
        "  def forward(self, X):\n",
        "    X = F.relu(self.conv1(X))\n",
        "    X = F.max_pool2d(X,2,2)\n",
        "    #Second pass\n",
        "    X = F.relu(self.conv2(X))\n",
        "    X = F.max_pool2d(X,2,2)\n",
        "    # Review to flatten it out/ reshape the CNN tensor from 4D to 2D\n",
        "    X = X.view(-1, 16*5*5) # -1 preserves the original batch size.\n",
        "    # Fully Connected Layers\n",
        "    X = F.relu(self.fc1(X))\n",
        "    X = F.relu(self.fc2(X))\n",
        "    X = self.fc3(X)\n",
        "    return F.log_softmax(X, dim=1) # Convets output into log-probablities"
      ],
      "metadata": {
        "id": "h3_WDExwmeSW"
      },
      "execution_count": 53,
      "outputs": []
    },
    {
      "cell_type": "code",
      "source": [
        "# Instantiate our model\n",
        "torch.manual_seed(41)\n",
        "model = ConvolutionalNetwork()\n",
        "model"
      ],
      "metadata": {
        "colab": {
          "base_uri": "https://localhost:8080/"
        },
        "id": "TK6lJDgz0jgn",
        "outputId": "2ea8b4b0-ce49-4105-afde-f591de229711"
      },
      "execution_count": 54,
      "outputs": [
        {
          "output_type": "execute_result",
          "data": {
            "text/plain": [
              "ConvolutionalNetwork(\n",
              "  (conv1): Conv2d(1, 6, kernel_size=(3, 3), stride=(1, 1))\n",
              "  (conv2): Conv2d(6, 16, kernel_size=(3, 3), stride=(1, 1))\n",
              "  (fc1): Linear(in_features=400, out_features=120, bias=True)\n",
              "  (fc2): Linear(in_features=120, out_features=84, bias=True)\n",
              "  (fc3): Linear(in_features=84, out_features=10, bias=True)\n",
              ")"
            ]
          },
          "metadata": {},
          "execution_count": 54
        }
      ]
    },
    {
      "cell_type": "code",
      "source": [
        "# Losss function optimizer\n",
        "criterion = nn.CrossEntropyLoss()\n",
        "optimizer = torch.optim.Adam(model.parameters(), lr=0.001)\n"
      ],
      "metadata": {
        "id": "nyocqtre06R1"
      },
      "execution_count": 55,
      "outputs": []
    },
    {
      "cell_type": "code",
      "source": [
        "import time\n",
        "start_time = time.time()\n",
        "# Create variables for tracking\n",
        "epochs = 5\n",
        "train_losses = []\n",
        "test_losses = []\n",
        "train_correct = []\n",
        "test_correct = []\n",
        "\n",
        "# For loops of epochs\n",
        "for i in range(epochs):\n",
        "  trn_corr = 0\n",
        "  tst_corr = 0\n",
        "\n",
        "  #Train\n",
        "  for b, (X_train, y_train) in enumerate(train_loader):\n",
        "    b+=1\n",
        "    y_pred = model(X_train)\n",
        "    loss = criterion(y_pred, y_train)\n",
        "\n",
        "    predicted = torch.max(y_pred.data, 1)[1] #Add up number of correct predictions\n",
        "    batch_corr = (predicted == y_train).sum() # How many we got correct\n",
        "    trn_corr += batch_corr\n",
        "\n",
        "    #Update parameters\n",
        "    optimizer.zero_grad()\n",
        "    loss.backward()\n",
        "    optimizer.step()\n",
        "    #Print results\n",
        "    if b%600 == 0:\n",
        "      print(f'epoch: {i} batch: {b} loss: {loss.item()}')\n",
        "  train_losses.append(loss)\n",
        "  train_correct.append(trn_corr)\n",
        "\n",
        "  #Test\n",
        "  with torch.no_grad():\n",
        "    for b, (X_test, y_test) in enumerate(test_loader):\n",
        "      y_val = model(X_test)\n",
        "      predicted = torch.max(y_val.data, 1)[1]# Add up correct predictions\n",
        "      tst_corr += (predicted == y_test).sum()# T=1, F=0\n",
        "  loss = criterion(y_val, y_test)\n",
        "  test_losses.append(loss)\n",
        "  test_correct.append(tst_corr)\n",
        "\n",
        "\n",
        "\n",
        "current_time  = time.time()\n",
        "total = current_time - start_time\n",
        "print(f'Training took {total/60} minutes.')"
      ],
      "metadata": {
        "colab": {
          "base_uri": "https://localhost:8080/"
        },
        "id": "2SXcw7B613Ih",
        "outputId": "16f8e09e-4241-427c-bbea-1e959018d598"
      },
      "execution_count": 60,
      "outputs": [
        {
          "output_type": "stream",
          "name": "stdout",
          "text": [
            "epoch: 0 batch: 600 loss: 0.06673242151737213\n",
            "epoch: 0 batch: 1200 loss: 0.011486882343888283\n",
            "epoch: 0 batch: 1800 loss: 0.00010850733087863773\n",
            "epoch: 0 batch: 2400 loss: 0.0034949115943163633\n",
            "epoch: 0 batch: 3000 loss: 0.5454784631729126\n",
            "epoch: 0 batch: 3600 loss: 0.0006972571136429906\n",
            "epoch: 0 batch: 4200 loss: 0.011702567338943481\n",
            "epoch: 0 batch: 4800 loss: 0.009425041265785694\n",
            "epoch: 0 batch: 5400 loss: 0.003721428569406271\n",
            "epoch: 0 batch: 6000 loss: 0.0005819665966555476\n",
            "epoch: 1 batch: 600 loss: 0.000231283760513179\n",
            "epoch: 1 batch: 1200 loss: 0.03065582737326622\n",
            "epoch: 1 batch: 1800 loss: 0.0007656434318050742\n",
            "epoch: 1 batch: 2400 loss: 0.04615493491292\n",
            "epoch: 1 batch: 3000 loss: 0.0006118264282122254\n",
            "epoch: 1 batch: 3600 loss: 0.0005625953199341893\n",
            "epoch: 1 batch: 4200 loss: 0.0005126988398842514\n",
            "epoch: 1 batch: 4800 loss: 0.033976007252931595\n",
            "epoch: 1 batch: 5400 loss: 0.00010771364031825215\n",
            "epoch: 1 batch: 6000 loss: 0.0075939493253827095\n",
            "epoch: 2 batch: 600 loss: 2.8499747713794932e-05\n",
            "epoch: 2 batch: 1200 loss: 0.00015678962517995387\n",
            "epoch: 2 batch: 1800 loss: 0.00880513247102499\n",
            "epoch: 2 batch: 2400 loss: 0.013784773647785187\n",
            "epoch: 2 batch: 3000 loss: 7.818877202225849e-05\n",
            "epoch: 2 batch: 3600 loss: 0.047344453632831573\n",
            "epoch: 2 batch: 4200 loss: 0.001688815071247518\n",
            "epoch: 2 batch: 4800 loss: 0.0006402753642760217\n",
            "epoch: 2 batch: 5400 loss: 6.756138463970274e-05\n",
            "epoch: 2 batch: 6000 loss: 0.002859664848074317\n",
            "epoch: 3 batch: 600 loss: 1.4792805814067833e-05\n",
            "epoch: 3 batch: 1200 loss: 0.0031625907868146896\n",
            "epoch: 3 batch: 1800 loss: 0.00016570913430768996\n",
            "epoch: 3 batch: 2400 loss: 3.056237619603053e-05\n",
            "epoch: 3 batch: 3000 loss: 0.003694361075758934\n",
            "epoch: 3 batch: 3600 loss: 0.004638697486370802\n",
            "epoch: 3 batch: 4200 loss: 0.0005796897457912564\n",
            "epoch: 3 batch: 4800 loss: 0.0006608975236304104\n",
            "epoch: 3 batch: 5400 loss: 0.0003113235579803586\n",
            "epoch: 3 batch: 6000 loss: 8.237920701503754e-05\n",
            "epoch: 4 batch: 600 loss: 1.0454443327034824e-05\n",
            "epoch: 4 batch: 1200 loss: 1.8954187908093445e-06\n",
            "epoch: 4 batch: 1800 loss: 2.0265520106477197e-06\n",
            "epoch: 4 batch: 2400 loss: 3.5762157040153397e-06\n",
            "epoch: 4 batch: 3000 loss: 8.898229862097651e-05\n",
            "epoch: 4 batch: 3600 loss: 0.0003978642635047436\n",
            "epoch: 4 batch: 4200 loss: 0.007381122559309006\n",
            "epoch: 4 batch: 4800 loss: 0.0026181365828961134\n",
            "epoch: 4 batch: 5400 loss: 6.841850699856877e-05\n",
            "epoch: 4 batch: 6000 loss: 0.008401231840252876\n",
            "Training took 3.7107131361961363 minutes.\n"
          ]
        }
      ]
    },
    {
      "cell_type": "code",
      "source": [],
      "metadata": {
        "id": "_J2PHyOMOcaD"
      },
      "execution_count": null,
      "outputs": []
    }
  ]
}